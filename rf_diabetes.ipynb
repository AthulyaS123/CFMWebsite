{
  "nbformat": 4,
  "nbformat_minor": 0,
  "metadata": {
    "colab": {
      "provenance": [],
      "collapsed_sections": [],
      "mount_file_id": "1yXpp16abCWsG2HLIlHGvY2ZrZUJVVQDB",
      "authorship_tag": "ABX9TyNigp/73iE5q83vIklX63+b"
    },
    "kernelspec": {
      "name": "python3",
      "display_name": "Python 3"
    },
    "language_info": {
      "name": "python"
    }
  },
  "cells": [
    {
      "cell_type": "code",
      "execution_count": null,
      "metadata": {
        "colab": {
          "base_uri": "https://localhost:8080/",
          "height": 493
        },
        "id": "Hz-oJmrnrTJB",
        "outputId": "e1f9a43b-9afe-4c47-c493-f2b9bb89b998"
      },
      "outputs": [
        {
          "output_type": "stream",
          "name": "stderr",
          "text": [
            "/usr/local/lib/python3.7/dist-packages/ipykernel_launcher.py:41: DataConversionWarning: A column-vector y was passed when a 1d array was expected. Please change the shape of y to (n_samples,), for example using ravel().\n",
            "/usr/local/lib/python3.7/dist-packages/sklearn/model_selection/_validation.py:680: DataConversionWarning: A column-vector y was passed when a 1d array was expected. Please change the shape of y to (n_samples,), for example using ravel().\n",
            "  estimator.fit(X_train, y_train, **fit_params)\n",
            "/usr/local/lib/python3.7/dist-packages/sklearn/model_selection/_validation.py:680: DataConversionWarning: A column-vector y was passed when a 1d array was expected. Please change the shape of y to (n_samples,), for example using ravel().\n",
            "  estimator.fit(X_train, y_train, **fit_params)\n",
            "/usr/local/lib/python3.7/dist-packages/sklearn/model_selection/_validation.py:680: DataConversionWarning: A column-vector y was passed when a 1d array was expected. Please change the shape of y to (n_samples,), for example using ravel().\n",
            "  estimator.fit(X_train, y_train, **fit_params)\n",
            "/usr/local/lib/python3.7/dist-packages/sklearn/model_selection/_validation.py:680: DataConversionWarning: A column-vector y was passed when a 1d array was expected. Please change the shape of y to (n_samples,), for example using ravel().\n",
            "  estimator.fit(X_train, y_train, **fit_params)\n",
            "/usr/local/lib/python3.7/dist-packages/sklearn/model_selection/_validation.py:680: DataConversionWarning: A column-vector y was passed when a 1d array was expected. Please change the shape of y to (n_samples,), for example using ravel().\n",
            "  estimator.fit(X_train, y_train, **fit_params)\n"
          ]
        },
        {
          "output_type": "execute_result",
          "data": {
            "text/plain": [
              "array([0.86538462, 0.94230769, 0.99038462, 0.92307692, 0.96153846])"
            ]
          },
          "metadata": {},
          "execution_count": 48
        },
        {
          "output_type": "display_data",
          "data": {
            "text/plain": [
              "<Figure size 432x288 with 1 Axes>"
            ],
            "image/png": "[encoded data removed]"
          },
          "metadata": {
            "needs_background": "light"
          }
        }
      ],
      "source": [
        "import matplotlib.pyplot as plt\n",
        "import pandas as pd\n",
        "import numpy as np\n",
        "from sklearn.model_selection import train_test_split\n",
        "\n",
        "from sklearn import svm\n",
        "from sklearn.ensemble import RandomForestClassifier\n",
        "from sklearn.linear_model import LogisticRegression\n",
        "from sklearn.tree import DecisionTreeClassifier\n",
        "from sklearn.model_selection import GridSearchCV\n",
        "from sklearn.preprocessing import LabelEncoder\n",
        "\n",
        "df = pd.read_csv('diabetes.csv')\n",
        "df.head(10)\n",
        "\n",
        "df.shape\n",
        "\n",
        "columns = df.columns\n",
        "col = columns[1:]\n",
        "col\n",
        "\n",
        "plt.scatter(x='class',y='Age',data=df,marker='+',color='blue')\n",
        "\n",
        "lb = LabelEncoder()\n",
        "\n",
        "for i in col:\n",
        "    df[i] = lb.fit_transform(df[i])\n",
        "\n",
        "df.head()\n",
        "\n",
        "X = df.drop(\"Gender\", axis='columns')\n",
        "y = df.drop(X,axis='columns')\n",
        "\n",
        "X.head(10)\n",
        "y.head(10)\n",
        "\n",
        "X_train, X_test, y_train, y_test = train_test_split(X,y,train_size=0.78,random_state=14)\n",
        "\n",
        "\n",
        "rf = RandomForestClassifier(n_estimators=40,random_state=10)\n",
        "rf.fit(X_train,y_train)\n",
        "rf.score(X_test,y_test)\n",
        "\n",
        "from sklearn.model_selection import cross_val_score\n",
        "scores = cross_val_score(RandomForestClassifier(n_estimators=40),X,y,cv=5)\n",
        "scores\n",
        "\n"
      ]
    },
    {
      "cell_type": "markdown",
      "source": [],
      "metadata": {
        "id": "TPbAo4v50QZ7"
      }
    },
    {
      "cell_type": "code",
      "source": [
        "scores.mean()\n"
      ],
      "metadata": {
        "colab": {
          "base_uri": "https://localhost:8080/"
        },
        "id": "w-qWhygLtWzf",
        "outputId": "38106903-1a50-4161-adfb-fbb61566249c"
      },
      "execution_count": null,
      "outputs": [
        {
          "output_type": "execute_result",
          "data": {
            "text/plain": [
              "0.9365384615384617"
            ]
          },
          "metadata": {},
          "execution_count": 51
        }
      ]
    },
    {
      "cell_type": "code",
      "source": [
        "importance = rf.feature_importances_\n",
        "ypos = np.arange(len(importance))\n",
        "plt.yticks(ypos,X.columns,fontsize=15)\n",
        "plt.rcParams['figure.figsize']=(20,12)\n",
        "# summarize feature importance\n",
        "for i,v in enumerate(importance):\n",
        "    print('Feature: %0d, Score: %.5f' % (i,v))\n",
        "# plot feature importance\n",
        "plt.xlabel('Score',fontsize=18)\n",
        "plt.ylabel('Features',fontsize=18)\n",
        "plt.title('Feature Scores',fontsize=22)\n",
        "\n",
        "plt.barh(ypos, importance)\n",
        "plt.show()"
      ],
      "metadata": {
        "colab": {
          "base_uri": "https://localhost:8080/",
          "height": 587
        },
        "id": "VqCodLA3uwUU",
        "outputId": "fa5f62be-4576-45f2-9405-59b8a2c17a08"
      },
      "execution_count": null,
      "outputs": [
        {
          "output_type": "stream",
          "name": "stdout",
          "text": [
            "Feature: 0, Score: 0.25067\n",
            "Feature: 1, Score: 0.03044\n",
            "Feature: 2, Score: 0.03774\n",
            "Feature: 3, Score: 0.04133\n",
            "Feature: 4, Score: 0.02761\n",
            "Feature: 5, Score: 0.03597\n",
            "Feature: 6, Score: 0.06121\n",
            "Feature: 7, Score: 0.04921\n",
            "Feature: 8, Score: 0.03951\n",
            "Feature: 9, Score: 0.03321\n",
            "Feature: 10, Score: 0.04114\n",
            "Feature: 11, Score: 0.07601\n",
            "Feature: 12, Score: 0.03873\n",
            "Feature: 13, Score: 0.08455\n",
            "Feature: 14, Score: 0.03257\n",
            "Feature: 15, Score: 0.12010\n"
          ]
        },
        {
          "output_type": "display_data",
          "data": {
            "text/plain": [
              "<Figure size 432x288 with 1 Axes>"
            ],
            "image/png": "[encoded data removed]"
          },
          "metadata": {
            "needs_background": "light"
          }
        }
      ]
    },
    {
      "cell_type": "code",
      "source": [
        "\n",
        "rf.predict([[45,0,1,1,1,1,1,1,1,1,1,1,1,1,1,1]])\n",
        "age = input(\"What is your age: \")\n",
        "gen = input(\"What is your Gender Male[0], Woman[1]: \")\n",
        "cat = []\n",
        "i=0\n",
        "\n",
        "#Work on using streamlit to recieve the other inputs for each colunn,then using rf.predict to figure out the conditon of the patient."
      ],
      "metadata": {
        "colab": {
          "base_uri": "https://localhost:8080/"
        },
        "id": "OwKh4L3ku4zu",
        "outputId": "2e822915-d221-4343-c3b2-dd84976889bb"
      },
      "execution_count": 80,
      "outputs": [
        {
          "output_type": "stream",
          "name": "stderr",
          "text": [
            "/usr/local/lib/python3.7/dist-packages/sklearn/base.py:451: UserWarning: X does not have valid feature names, but RandomForestClassifier was fitted with feature names\n",
            "  \"X does not have valid feature names, but\"\n"
          ]
        },
        {
          "name": "stdout",
          "output_type": "stream",
          "text": [
            "What is your age: 4\n",
            "What is your Gender Male[0], Woman[1]: 0\n"
          ]
        }
      ]
    }
  ]
}